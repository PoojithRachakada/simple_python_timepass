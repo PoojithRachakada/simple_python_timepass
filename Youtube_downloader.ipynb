{
 "cells": [
  {
   "cell_type": "markdown",
   "id": "6bb93134",
   "metadata": {},
   "source": [
    "# Youtube Downloader"
   ]
  },
  {
   "cell_type": "code",
   "execution_count": null,
   "id": "0c2aba6c",
   "metadata": {},
   "outputs": [],
   "source": [
    "from tkinter import *\n",
    "from pytube import YouTube\n",
    "import tkinter as tk\n",
    "from tkinter import filedialog\n",
    "\n",
    "#--------------------Select Download Folder----------------------\n",
    "def download_folder():\n",
    "    #root.withdraw()\n",
    "    global folder_selected\n",
    "    folder_selected = filedialog.askdirectory()\n",
    "    path_s=Label(root, text = \"Selected Folder=\"+folder_selected,font = 'arial 10 italic').place(x= 100 , y = 100)\n",
    "    \n",
    "    \n",
    "#--------------------Select Download Folder End-------------------\n",
    "\n",
    "\n",
    "root = Tk()\n",
    "root.geometry('500x300')\n",
    "root.resizable(0,0)\n",
    "root.title(\"Poojith youtube video downloader\")\n",
    "Label(root,text = 'Youtube Video Downloader', font ='arial 20 bold').pack()\n",
    "bt=Button(root,text=\"Select Download Folder\",width=20, font=('Helvetica', 12),command=download_folder).place(x=220,y=60)\n",
    "\n",
    "\n",
    "#----------------Quality taking----------------------------\n",
    "QualityList = [\"144p\",\"240p\",\"360p\",\"720p\",\"1080p\"] \n",
    "\n",
    "variable = tk.StringVar(root)\n",
    "variable.set(\"Select Quality\")\n",
    "\n",
    "opt = tk.OptionMenu(root, variable, *QualityList)\n",
    "opt.config(width=10, font=('Helvetica', 12))\n",
    "opt.place(x= 10 , y = 60)\n",
    "\n",
    "def callback(*args):\n",
    "    #labelTest.configure(text=\"The selected item is {}\".format(variable.get()))\n",
    "    return variable.get()\n",
    "\n",
    "variable.trace(\"w\", callback)\n",
    "#------------------Quality end---------------------------------\n",
    "\n",
    "\n",
    "#------------------enter link------------------------------------\n",
    "link = StringVar()\n",
    "Label(root, text = 'Paste Link Here:', font = 'arial 15 bold').place(x= 160 , y = 120)\n",
    "link_enter = Entry(root, width = 70,textvariable = link).place(x = 32, y = 150)\n",
    "\n",
    "\n",
    "\n",
    "#---------------------function to download video------------------------\n",
    "def Downloader():     \n",
    "    url =YouTube(str(link.get()))\n",
    "    video = url.streams.filter(res=callback()).first()\n",
    "    video.download(folder_selected)\n",
    "    Label(root, text = 'DOWNLOADED', font = 'arial 15').place(x= 180 , y = 230)  \n",
    "Button(root,text = 'DOWNLOAD', font = 'arial 15 bold' ,bg = 'pale violet red', padx = 2, command = Downloader).place(x=180 ,y = 170)\n",
    "root.mainloop()"
   ]
  },
  {
   "cell_type": "code",
   "execution_count": null,
   "id": "eeedc664",
   "metadata": {},
   "outputs": [],
   "source": []
  }
 ],
 "metadata": {
  "kernelspec": {
   "display_name": "Python 3",
   "language": "python",
   "name": "python3"
  },
  "language_info": {
   "codemirror_mode": {
    "name": "ipython",
    "version": 3
   },
   "file_extension": ".py",
   "mimetype": "text/x-python",
   "name": "python",
   "nbconvert_exporter": "python",
   "pygments_lexer": "ipython3",
   "version": "3.8.8"
  }
 },
 "nbformat": 4,
 "nbformat_minor": 5
}
